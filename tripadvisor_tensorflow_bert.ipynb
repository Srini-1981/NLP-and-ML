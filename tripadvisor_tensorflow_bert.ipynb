{
 "cells": [
  {
   "cell_type": "markdown",
   "id": "bc2f05e1",
   "metadata": {},
   "source": [
    "#### Author: M Srinivasulu Reddy (Srini)\n",
    "* This notebook is written and prepared as part of a take home project or assignment for one of the product based company\n",
    "\n",
    "#### Assignment approach highlights\n",
    "* There are beautiful ways to approach the BERT problem using Huggingface Transformers with native Pytorch and Tensorflow libraries but this assignment is done with the mix of Scikit-learn and native Tensorflow where I am comfortable. We also used Pytorch and Huggingface based code to resolve some of the problems for out existing clients.  \n",
    "* Could not run this code in colab due to internet and session outages which frequently allowed to session disconnects consuming lot of time and also it is early to publish this code and run in Kaggle so could not utilize the GPU and decided to run this experiment in CPU laptop with 32 GB RAM.\n",
    "* From assignment perspective, no need to chase metrics so bought in below strategies to complete the assignment and experimentation in local machine and in time.\n",
    "    * Down sized the dataset to the least class sample which is neutral sentiment so this experiment can run in CPU in shorter time, this can also be considered as one of the steps to deal imbalanced datasets and here it is not the objective\n",
    "    * Used small BERT to reduce the computational time\n",
    "    * Numerous BERT experiments can be done but limited to this one due to time and computational complexity\n",
    "* This notebook or codebase shows the apporaches towards the problem and also provides various tools and techniques further can be used to solve the problem or to take next level.\n",
    "* Tried to provide functional explanation for most of the cells\n",
    "* What further can be done to make this work more useful (I know this is not part of the assignment):\n",
    "    * An Explainable AI to explain the classification (lime, shap, etc)\n",
    "    * A simple deployment using flask and waitress, exposing it as rest API\n",
    "    * An end to end AI, ML maintainable framework using mlflow, dvc, etc."
   ]
  },
  {
   "cell_type": "code",
   "execution_count": 1,
   "id": "07b035a5",
   "metadata": {},
   "outputs": [],
   "source": [
    "# Do all the required imports\n",
    "import os\n",
    "from collections import Counter\n",
    "\n",
    "from nltk.corpus import stopwords\n",
    "\n",
    "import pandas as pd\n",
    "import numpy as np\n",
    "\n",
    "import matplotlib.pyplot as plt\n",
    "import seaborn as sns\n",
    "\n",
    "from sklearn.model_selection import train_test_split\n",
    "from sklearn.model_selection import RandomizedSearchCV\n",
    "from sklearn.model_selection import GridSearchCV\n",
    "from sklearn.metrics.pairwise import cosine_similarity\n",
    "from sklearn.metrics import confusion_matrix, accuracy_score, classification_report, roc_curve, auc\n",
    "from sklearn.feature_extraction.text import TfidfVectorizer\n",
    "from sklearn.feature_selection import chi2\n",
    "\n",
    "import tensorflow as tf\n",
    "import tensorflow_hub as hub\n",
    "import tensorflow_text as text\n",
    "from tensorflow.keras.models import Sequential, load_model\n",
    "from tensorflow.keras.wrappers.scikit_learn import KerasClassifier"
   ]
  },
  {
   "cell_type": "code",
   "execution_count": 2,
   "id": "492492f0",
   "metadata": {},
   "outputs": [
    {
     "name": "stdout",
     "output_type": "stream",
     "text": [
      "data directory path .\\data\\tripadvisor_hotel_reviews.csv\n"
     ]
    }
   ],
   "source": [
    "# Prepare the data path for data load\n",
    "data_dir = \"data\"\n",
    "file_name = \"tripadvisor_hotel_reviews.csv\"\n",
    "data_path = os.path.join(os.curdir, data_dir, file_name)\n",
    "\n",
    "print(\"data directory path {}\" .format(data_path))"
   ]
  },
  {
   "cell_type": "code",
   "execution_count": 3,
   "id": "fce61c0b",
   "metadata": {},
   "outputs": [
    {
     "data": {
      "text/html": [
       "<div>\n",
       "<style scoped>\n",
       "    .dataframe tbody tr th:only-of-type {\n",
       "        vertical-align: middle;\n",
       "    }\n",
       "\n",
       "    .dataframe tbody tr th {\n",
       "        vertical-align: top;\n",
       "    }\n",
       "\n",
       "    .dataframe thead th {\n",
       "        text-align: right;\n",
       "    }\n",
       "</style>\n",
       "<table border=\"1\" class=\"dataframe\">\n",
       "  <thead>\n",
       "    <tr style=\"text-align: right;\">\n",
       "      <th></th>\n",
       "      <th>Review</th>\n",
       "      <th>Rating</th>\n",
       "    </tr>\n",
       "  </thead>\n",
       "  <tbody>\n",
       "    <tr>\n",
       "      <th>6041</th>\n",
       "      <td>barcelo palace nightmare room ground floor bro...</td>\n",
       "      <td>1</td>\n",
       "    </tr>\n",
       "    <tr>\n",
       "      <th>11653</th>\n",
       "      <td>loved wife stayed hotel week ago night, though...</td>\n",
       "      <td>5</td>\n",
       "    </tr>\n",
       "    <tr>\n",
       "      <th>8382</th>\n",
       "      <td>stayed better, hotel location ok building work...</td>\n",
       "      <td>2</td>\n",
       "    </tr>\n",
       "    <tr>\n",
       "      <th>8515</th>\n",
       "      <td>great location poor customer service booked da...</td>\n",
       "      <td>1</td>\n",
       "    </tr>\n",
       "    <tr>\n",
       "      <th>225</th>\n",
       "      <td>great seattle location great downtown hotel, p...</td>\n",
       "      <td>5</td>\n",
       "    </tr>\n",
       "  </tbody>\n",
       "</table>\n",
       "</div>"
      ],
      "text/plain": [
       "                                                  Review  Rating\n",
       "6041   barcelo palace nightmare room ground floor bro...       1\n",
       "11653  loved wife stayed hotel week ago night, though...       5\n",
       "8382   stayed better, hotel location ok building work...       2\n",
       "8515   great location poor customer service booked da...       1\n",
       "225    great seattle location great downtown hotel, p...       5"
      ]
     },
     "execution_count": 3,
     "metadata": {},
     "output_type": "execute_result"
    }
   ],
   "source": [
    "# Do the data load\n",
    "data_frame = pd.read_csv(data_path)\n",
    "# Check sample rows to get the sense of data\n",
    "data_frame.sample(5)"
   ]
  },
  {
   "cell_type": "code",
   "execution_count": 4,
   "id": "e0bfb62a",
   "metadata": {},
   "outputs": [
    {
     "name": "stdout",
     "output_type": "stream",
     "text": [
      "<class 'pandas.core.frame.DataFrame'>\n",
      "RangeIndex: 20491 entries, 0 to 20490\n",
      "Data columns (total 2 columns):\n",
      " #   Column  Non-Null Count  Dtype \n",
      "---  ------  --------------  ----- \n",
      " 0   Review  20491 non-null  object\n",
      " 1   Rating  20491 non-null  int64 \n",
      "dtypes: int64(1), object(1)\n",
      "memory usage: 320.3+ KB\n"
     ]
    }
   ],
   "source": [
    "# Get the dataframe information and check for any null existence\n",
    "data_frame.info()"
   ]
  },
  {
   "cell_type": "code",
   "execution_count": 5,
   "id": "2256119b",
   "metadata": {},
   "outputs": [
    {
     "data": {
      "text/html": [
       "<div>\n",
       "<style scoped>\n",
       "    .dataframe tbody tr th:only-of-type {\n",
       "        vertical-align: middle;\n",
       "    }\n",
       "\n",
       "    .dataframe tbody tr th {\n",
       "        vertical-align: top;\n",
       "    }\n",
       "\n",
       "    .dataframe thead th {\n",
       "        text-align: right;\n",
       "    }\n",
       "</style>\n",
       "<table border=\"1\" class=\"dataframe\">\n",
       "  <thead>\n",
       "    <tr style=\"text-align: right;\">\n",
       "      <th></th>\n",
       "      <th>rating</th>\n",
       "      <th>count</th>\n",
       "      <th>percentage</th>\n",
       "    </tr>\n",
       "  </thead>\n",
       "  <tbody>\n",
       "    <tr>\n",
       "      <th>3</th>\n",
       "      <td>5</td>\n",
       "      <td>9054</td>\n",
       "      <td>44.185252</td>\n",
       "    </tr>\n",
       "    <tr>\n",
       "      <th>0</th>\n",
       "      <td>4</td>\n",
       "      <td>6039</td>\n",
       "      <td>29.471475</td>\n",
       "    </tr>\n",
       "    <tr>\n",
       "      <th>2</th>\n",
       "      <td>3</td>\n",
       "      <td>2184</td>\n",
       "      <td>10.658338</td>\n",
       "    </tr>\n",
       "    <tr>\n",
       "      <th>1</th>\n",
       "      <td>2</td>\n",
       "      <td>1793</td>\n",
       "      <td>8.750183</td>\n",
       "    </tr>\n",
       "    <tr>\n",
       "      <th>4</th>\n",
       "      <td>1</td>\n",
       "      <td>1421</td>\n",
       "      <td>6.934752</td>\n",
       "    </tr>\n",
       "  </tbody>\n",
       "</table>\n",
       "</div>"
      ],
      "text/plain": [
       "   rating  count  percentage\n",
       "3       5   9054   44.185252\n",
       "0       4   6039   29.471475\n",
       "2       3   2184   10.658338\n",
       "1       2   1793    8.750183\n",
       "4       1   1421    6.934752"
      ]
     },
     "execution_count": 5,
     "metadata": {},
     "output_type": "execute_result"
    }
   ],
   "source": [
    "# Check the % of counts in each class\n",
    "counter = Counter(data_frame['Rating'])\n",
    "class_percent = []\n",
    "for c, co in counter.items():\n",
    "    per = co / len(data_frame['Rating'])*100\n",
    "    class_percent.append((c, co, per))\n",
    "\n",
    "pd.DataFrame(class_percent, columns = ['rating', 'count', 'percentage']).sort_values('count', ascending=False)"
   ]
  },
  {
   "cell_type": "markdown",
   "id": "f8460905",
   "metadata": {},
   "source": [
    "#### Notes\n",
    "* Build tf-idf vector to understand the feature importance of each class"
   ]
  },
  {
   "cell_type": "code",
   "execution_count": 6,
   "id": "4677daf4",
   "metadata": {},
   "outputs": [
    {
     "data": {
      "text/plain": [
       "(20491, 80021)"
      ]
     },
     "execution_count": 6,
     "metadata": {},
     "output_type": "execute_result"
    }
   ],
   "source": [
    "# Construct tfidf vectorizer to transform text to feature vectors  \n",
    "tfidf = TfidfVectorizer(sublinear_tf=True, min_df=5, norm='l2', encoding='latin-1', ngram_range=(1, 3), stop_words='english')\n",
    "# Transform to term frequency inverse document frequency (tfidf) feature vector for complaint column / feature\n",
    "features = tfidf.fit_transform(data_frame.Review)\n",
    "# Frame the labels list from product id\n",
    "labels = data_frame.Rating\n",
    "# Check the shape after the transformation, it forms the sparse matrix for each row or complaint\n",
    "features.shape"
   ]
  },
  {
   "cell_type": "markdown",
   "id": "a1e3d927",
   "metadata": {},
   "source": [
    "#### Notes\n",
    "* Used Chi-Square to get the feature importance of each class using uni, bi and tri grams\n",
    "* Rating 1 and 2 reviews are negative related as expected \n",
    "* Rating 3 looks neutral\n",
    "* Rating 4 and 5 are positively related"
   ]
  },
  {
   "cell_type": "code",
   "execution_count": 7,
   "id": "6ecdead9",
   "metadata": {},
   "outputs": [
    {
     "name": "stdout",
     "output_type": "stream",
     "text": [
      "# '1':\n",
      "  . Most correlated unigrams:\n",
      "       . refund\n",
      "       . told\n",
      "       . disgusting\n",
      "       . filthy\n",
      "       . rude\n",
      "       . dump\n",
      "       . horrible\n",
      "       . terrible\n",
      "       . worst\n",
      "       . dirty\n",
      "  . Most correlated bigrams:\n",
      "       . avoid costs\n",
      "       . hotel dirty\n",
      "       . terrible hotel\n",
      "       . extremely rude\n",
      "       . rooms dirty\n",
      "       . terrible experience\n",
      "       . credit card\n",
      "       . stay away\n",
      "       . horrible experience\n",
      "       . worst hotel\n",
      "# '2':\n",
      "  . Most correlated unigrams:\n",
      "       . barely\n",
      "       . tiny\n",
      "       . okay\n",
      "       . terrible\n",
      "       . ok\n",
      "       . rude\n",
      "       . dirty\n",
      "       . disappointing\n",
      "       . poor\n",
      "       . told\n",
      "  . Most correlated bigrams:\n",
      "       . room tiny\n",
      "       . room smelled\n",
      "       . noisy hear\n",
      "       . poor quality\n",
      "       . disappointing stayed\n",
      "       . wo stay\n",
      "       . biggest disappointment\n",
      "       . rated stayed\n",
      "       . service poor\n",
      "       . did work\n",
      "# '3':\n",
      "  . Most correlated unigrams:\n",
      "       . highly\n",
      "       . fantastic\n",
      "       . loved\n",
      "       . bad\n",
      "       . wonderful\n",
      "       . decent\n",
      "       . basic\n",
      "       . okay\n",
      "       . average\n",
      "       . ok\n",
      "  . Most correlated bigrams:\n",
      "       . just average\n",
      "       . room ok\n",
      "       . staff average\n",
      "       . hotel ok\n",
      "       . good location\n",
      "       . ok special\n",
      "       . location average\n",
      "       . just ok\n",
      "       . ok hotel\n",
      "       . average hotel\n",
      "# '4':\n",
      "  . Most correlated unigrams:\n",
      "       . bit\n",
      "       . horrible\n",
      "       . manager\n",
      "       . clean\n",
      "       . terrible\n",
      "       . value\n",
      "       . worst\n",
      "       . dirty\n",
      "       . nice\n",
      "       . good\n",
      "  . Most correlated bigrams:\n",
      "       . fantastic hotel\n",
      "       . best hotel\n",
      "       . nice place\n",
      "       . hotel good\n",
      "       . pretty good\n",
      "       . good location\n",
      "       . overall good\n",
      "       . good hotel\n",
      "       . good value\n",
      "       . nice hotel\n",
      "# '5':\n",
      "  . Most correlated unigrams:\n",
      "       . worst\n",
      "       . told\n",
      "       . dirty\n",
      "       . highly\n",
      "       . excellent\n",
      "       . perfect\n",
      "       . loved\n",
      "       . ok\n",
      "       . fantastic\n",
      "       . wonderful\n",
      "  . Most correlated bigrams:\n",
      "       . highly recommended\n",
      "       . did work\n",
      "       . good location\n",
      "       . loved hotel\n",
      "       . best hotel\n",
      "       . great hotel\n",
      "       . wonderful hotel\n",
      "       . excellent hotel\n",
      "       . fantastic hotel\n",
      "       . highly recommend\n"
     ]
    }
   ],
   "source": [
    "# Check the correlated words in each rating for uni, bi and tri grams\n",
    "N = 10\n",
    "\n",
    "for label in range(1, 6):\n",
    "    features_chi2 = chi2(features, labels == label)\n",
    "    indices = np.argsort(features_chi2[0])\n",
    "    feature_names = np.array(tfidf.get_feature_names())[indices]\n",
    "    unigrams = [v for v in feature_names if len(v.split(' ')) == 1]\n",
    "    bigrams = [v for v in feature_names if len(v.split(' ')) == 2]\n",
    "    #trigrams = [v for v in feature_names if len(v.split(' ')) == 3]\n",
    "    print(\"# '{}':\".format(label))\n",
    "    print(\"  . Most correlated unigrams:\\n       . {}\".format('\\n       . '.join(unigrams[-N:])))\n",
    "    print(\"  . Most correlated bigrams:\\n       . {}\".format('\\n       . '.join(bigrams[-N:])))\n",
    "    #print(\"  . Most correlated trigrams:\\n       . {}\".format('\\n       . '.join(trigrams[-N:])))"
   ]
  },
  {
   "cell_type": "markdown",
   "id": "e22667e6",
   "metadata": {},
   "source": [
    "#### Notes\n",
    "* Seggregate rating 1 and 2 as 0 as part of negative sentiment\n",
    "* 3 as 1 as part of neutral sentiment\n",
    "* Seggregate rating 4 and 5 as 2 as part of positive sentiment"
   ]
  },
  {
   "cell_type": "code",
   "execution_count": 8,
   "id": "53fc7966",
   "metadata": {},
   "outputs": [
    {
     "data": {
      "text/html": [
       "<div>\n",
       "<style scoped>\n",
       "    .dataframe tbody tr th:only-of-type {\n",
       "        vertical-align: middle;\n",
       "    }\n",
       "\n",
       "    .dataframe tbody tr th {\n",
       "        vertical-align: top;\n",
       "    }\n",
       "\n",
       "    .dataframe thead th {\n",
       "        text-align: right;\n",
       "    }\n",
       "</style>\n",
       "<table border=\"1\" class=\"dataframe\">\n",
       "  <thead>\n",
       "    <tr style=\"text-align: right;\">\n",
       "      <th></th>\n",
       "      <th>Review</th>\n",
       "      <th>Rating</th>\n",
       "      <th>Sentiment</th>\n",
       "    </tr>\n",
       "  </thead>\n",
       "  <tbody>\n",
       "    <tr>\n",
       "      <th>7809</th>\n",
       "      <td>phony fee visited seattle week, stayed days in...</td>\n",
       "      <td>1</td>\n",
       "      <td>0</td>\n",
       "    </tr>\n",
       "    <tr>\n",
       "      <th>9020</th>\n",
       "      <td>terrible location acceptable service hotel acc...</td>\n",
       "      <td>2</td>\n",
       "      <td>0</td>\n",
       "    </tr>\n",
       "    <tr>\n",
       "      <th>13684</th>\n",
       "      <td>excellent hotel stayed night whilst travelling...</td>\n",
       "      <td>5</td>\n",
       "      <td>2</td>\n",
       "    </tr>\n",
       "    <tr>\n",
       "      <th>10619</th>\n",
       "      <td>just ok tough review post generally francesco ...</td>\n",
       "      <td>2</td>\n",
       "      <td>0</td>\n",
       "    </tr>\n",
       "    <tr>\n",
       "      <th>4992</th>\n",
       "      <td>star hotel star value located half way duomo u...</td>\n",
       "      <td>4</td>\n",
       "      <td>2</td>\n",
       "    </tr>\n",
       "  </tbody>\n",
       "</table>\n",
       "</div>"
      ],
      "text/plain": [
       "                                                  Review  Rating  Sentiment\n",
       "7809   phony fee visited seattle week, stayed days in...       1          0\n",
       "9020   terrible location acceptable service hotel acc...       2          0\n",
       "13684  excellent hotel stayed night whilst travelling...       5          2\n",
       "10619  just ok tough review post generally francesco ...       2          0\n",
       "4992   star hotel star value located half way duomo u...       4          2"
      ]
     },
     "execution_count": 8,
     "metadata": {},
     "output_type": "execute_result"
    }
   ],
   "source": [
    "# Set the sentiment 2 for positive, 1 for neutral and 0 for negative\n",
    "def set_sentiment(rating):\n",
    "    if rating >= 4:\n",
    "        return 2\n",
    "    elif rating == 3:\n",
    "        return 1\n",
    "    else:\n",
    "        return 0\n",
    "\n",
    "data_frame['Sentiment']= data_frame['Rating'].apply(set_sentiment)\n",
    "\n",
    "# Check sample rows to get the sense of data\n",
    "data_frame.sample(5)"
   ]
  },
  {
   "cell_type": "code",
   "execution_count": 9,
   "id": "92fb9427",
   "metadata": {},
   "outputs": [
    {
     "data": {
      "text/html": [
       "<div>\n",
       "<style scoped>\n",
       "    .dataframe tbody tr th:only-of-type {\n",
       "        vertical-align: middle;\n",
       "    }\n",
       "\n",
       "    .dataframe tbody tr th {\n",
       "        vertical-align: top;\n",
       "    }\n",
       "\n",
       "    .dataframe thead th {\n",
       "        text-align: right;\n",
       "    }\n",
       "</style>\n",
       "<table border=\"1\" class=\"dataframe\">\n",
       "  <thead>\n",
       "    <tr style=\"text-align: right;\">\n",
       "      <th></th>\n",
       "      <th>sentiment</th>\n",
       "      <th>count</th>\n",
       "      <th>percentage</th>\n",
       "    </tr>\n",
       "  </thead>\n",
       "  <tbody>\n",
       "    <tr>\n",
       "      <th>0</th>\n",
       "      <td>2</td>\n",
       "      <td>15093</td>\n",
       "      <td>73.656727</td>\n",
       "    </tr>\n",
       "    <tr>\n",
       "      <th>1</th>\n",
       "      <td>0</td>\n",
       "      <td>3214</td>\n",
       "      <td>15.684935</td>\n",
       "    </tr>\n",
       "    <tr>\n",
       "      <th>2</th>\n",
       "      <td>1</td>\n",
       "      <td>2184</td>\n",
       "      <td>10.658338</td>\n",
       "    </tr>\n",
       "  </tbody>\n",
       "</table>\n",
       "</div>"
      ],
      "text/plain": [
       "   sentiment  count  percentage\n",
       "0          2  15093   73.656727\n",
       "1          0   3214   15.684935\n",
       "2          1   2184   10.658338"
      ]
     },
     "execution_count": 9,
     "metadata": {},
     "output_type": "execute_result"
    }
   ],
   "source": [
    "# Check the % of counts in each class\n",
    "counter = Counter(data_frame['Sentiment'])\n",
    "class_percent = []\n",
    "for c, co in counter.items():\n",
    "    per = co / len(data_frame['Sentiment'])*100\n",
    "    class_percent.append((c, co, per))\n",
    "\n",
    "pd.DataFrame(class_percent, columns = ['sentiment', 'count', 'percentage']).sort_values('count', ascending=False)"
   ]
  },
  {
   "cell_type": "markdown",
   "id": "379e4cda",
   "metadata": {},
   "source": [
    "#### Notes\n",
    "* There are certain other ways like SMOTE and other to do the down sampling, a quick way of doing using native Pandas"
   ]
  },
  {
   "cell_type": "code",
   "execution_count": 10,
   "id": "30f0cb8e",
   "metadata": {},
   "outputs": [
    {
     "data": {
      "text/html": [
       "<div>\n",
       "<style scoped>\n",
       "    .dataframe tbody tr th:only-of-type {\n",
       "        vertical-align: middle;\n",
       "    }\n",
       "\n",
       "    .dataframe tbody tr th {\n",
       "        vertical-align: top;\n",
       "    }\n",
       "\n",
       "    .dataframe thead th {\n",
       "        text-align: right;\n",
       "    }\n",
       "</style>\n",
       "<table border=\"1\" class=\"dataframe\">\n",
       "  <thead>\n",
       "    <tr style=\"text-align: right;\">\n",
       "      <th></th>\n",
       "      <th>sentiment</th>\n",
       "      <th>count</th>\n",
       "      <th>percentage</th>\n",
       "    </tr>\n",
       "  </thead>\n",
       "  <tbody>\n",
       "    <tr>\n",
       "      <th>0</th>\n",
       "      <td>1</td>\n",
       "      <td>2184</td>\n",
       "      <td>33.333333</td>\n",
       "    </tr>\n",
       "    <tr>\n",
       "      <th>1</th>\n",
       "      <td>2</td>\n",
       "      <td>2184</td>\n",
       "      <td>33.333333</td>\n",
       "    </tr>\n",
       "    <tr>\n",
       "      <th>2</th>\n",
       "      <td>0</td>\n",
       "      <td>2184</td>\n",
       "      <td>33.333333</td>\n",
       "    </tr>\n",
       "  </tbody>\n",
       "</table>\n",
       "</div>"
      ],
      "text/plain": [
       "   sentiment  count  percentage\n",
       "0          1   2184   33.333333\n",
       "1          2   2184   33.333333\n",
       "2          0   2184   33.333333"
      ]
     },
     "execution_count": 10,
     "metadata": {},
     "output_type": "execute_result"
    }
   ],
   "source": [
    "# Down sizing the dataset as mentioned in the top assignment highlights\n",
    "# Get the neutral sentiments\n",
    "neutral_sent = data_frame[data_frame['Sentiment'] == 1]\n",
    "\n",
    "# Get the positive sentiments equivalent to the count of neutral sentiment\n",
    "positive_sent = data_frame[data_frame['Sentiment'] == 2]\n",
    "positive_sent = positive_sent.sample(len(neutral_sent))\n",
    "\n",
    "# Get the negative sentiments equivalent to the count of neutral sentiment\n",
    "negative_sent = data_frame[data_frame['Sentiment'] == 0]\n",
    "negative_sent = negative_sent.sample(len(neutral_sent))\n",
    "\n",
    "# Concatenate neutral, positive and negative dataframes to down sample dataset\n",
    "df_down_sample = pd.concat([neutral_sent, positive_sent, negative_sent])\n",
    "\n",
    "# Check the % of counts in each class\n",
    "counter = Counter(df_down_sample['Sentiment'])\n",
    "class_percent = []\n",
    "for c, co in counter.items():\n",
    "    per = co / len(df_down_sample['Sentiment'])*100\n",
    "    class_percent.append((c, co, per))\n",
    "\n",
    "pd.DataFrame(class_percent, columns = ['sentiment', 'count', 'percentage']).sort_values('count', ascending=False)"
   ]
  },
  {
   "cell_type": "markdown",
   "id": "aba994c7",
   "metadata": {},
   "source": [
    "#### Notes:\n",
    "* From high level overview, the data mostly looks clean but just adding over one pre process function to clean few of them incase the relevant data or words exist in the dataset"
   ]
  },
  {
   "cell_type": "code",
   "execution_count": 11,
   "id": "5078b206",
   "metadata": {},
   "outputs": [
    {
     "name": "stderr",
     "output_type": "stream",
     "text": [
      "C:\\Users\\mommasani.srinivasul\\Anaconda3\\envs\\bert_exp\\lib\\site-packages\\ipykernel_launcher.py:8: FutureWarning: The default value of regex will change from True to False in a future version.\n",
      "  \n",
      "C:\\Users\\mommasani.srinivasul\\Anaconda3\\envs\\bert_exp\\lib\\site-packages\\ipykernel_launcher.py:10: FutureWarning: The default value of regex will change from True to False in a future version.\n",
      "  # Remove the CWD from sys.path while we load stuff.\n"
     ]
    }
   ],
   "source": [
    "# Put all the clean-up code in one function and execute them together and store it as a new column\n",
    "def pre_process():\n",
    "    stop_words = stopwords.words('english')\n",
    "    \n",
    "    # convert to lower case\n",
    "    df_down_sample['Review_Clean'] = df_down_sample['Review'].apply(lambda x: ' '.join([i.lower() for i in x.split()]))\n",
    "    # remove punctuation\n",
    "    df_down_sample['Review_Clean'] = df_down_sample['Review_Clean'].str.replace(r'[^\\w\\s]', \"\")\n",
    "    # remove masked characters like xx\n",
    "    df_down_sample['Review_Clean'] = df_down_sample['Review_Clean'].str.replace(r\"xx+\\s\", \"\")\n",
    "    # remove stop words\n",
    "    df_down_sample['Review_Clean'] = df_down_sample['Review_Clean'].apply(lambda x: ' '.join([i for i in x.split() if i not in stop_words]))\n",
    "\n",
    "pre_process()"
   ]
  },
  {
   "cell_type": "code",
   "execution_count": 12,
   "id": "66da3f17",
   "metadata": {},
   "outputs": [
    {
     "data": {
      "text/html": [
       "<div>\n",
       "<style scoped>\n",
       "    .dataframe tbody tr th:only-of-type {\n",
       "        vertical-align: middle;\n",
       "    }\n",
       "\n",
       "    .dataframe tbody tr th {\n",
       "        vertical-align: top;\n",
       "    }\n",
       "\n",
       "    .dataframe thead th {\n",
       "        text-align: right;\n",
       "    }\n",
       "</style>\n",
       "<table border=\"1\" class=\"dataframe\">\n",
       "  <thead>\n",
       "    <tr style=\"text-align: right;\">\n",
       "      <th></th>\n",
       "      <th>Review</th>\n",
       "      <th>Rating</th>\n",
       "      <th>Sentiment</th>\n",
       "      <th>Review_Clean</th>\n",
       "    </tr>\n",
       "  </thead>\n",
       "  <tbody>\n",
       "    <tr>\n",
       "      <th>12910</th>\n",
       "      <td>not going hotel rated 4* real stretch, pro bea...</td>\n",
       "      <td>3</td>\n",
       "      <td>1</td>\n",
       "      <td>going hotel rated 4 real stretch pro beach gre...</td>\n",
       "    </tr>\n",
       "    <tr>\n",
       "      <th>20179</th>\n",
       "      <td>funky prob wouldnt stay location ok. not far c...</td>\n",
       "      <td>3</td>\n",
       "      <td>1</td>\n",
       "      <td>funky prob wouldnt stay location ok far city c...</td>\n",
       "    </tr>\n",
       "    <tr>\n",
       "      <th>3468</th>\n",
       "      <td>bit worn amenities pictures description web si...</td>\n",
       "      <td>4</td>\n",
       "      <td>2</td>\n",
       "      <td>bit worn amenities pictures description web si...</td>\n",
       "    </tr>\n",
       "    <tr>\n",
       "      <th>15132</th>\n",
       "      <td>not convinced marco polo stayed marco polo 12/...</td>\n",
       "      <td>3</td>\n",
       "      <td>1</td>\n",
       "      <td>convinced marco polo stayed marco polo 129 179...</td>\n",
       "    </tr>\n",
       "    <tr>\n",
       "      <th>9867</th>\n",
       "      <td>londra good value hotel good value overall.buf...</td>\n",
       "      <td>4</td>\n",
       "      <td>2</td>\n",
       "      <td>londra good value hotel good value overallbuff...</td>\n",
       "    </tr>\n",
       "  </tbody>\n",
       "</table>\n",
       "</div>"
      ],
      "text/plain": [
       "                                                  Review  Rating  Sentiment  \\\n",
       "12910  not going hotel rated 4* real stretch, pro bea...       3          1   \n",
       "20179  funky prob wouldnt stay location ok. not far c...       3          1   \n",
       "3468   bit worn amenities pictures description web si...       4          2   \n",
       "15132  not convinced marco polo stayed marco polo 12/...       3          1   \n",
       "9867   londra good value hotel good value overall.buf...       4          2   \n",
       "\n",
       "                                            Review_Clean  \n",
       "12910  going hotel rated 4 real stretch pro beach gre...  \n",
       "20179  funky prob wouldnt stay location ok far city c...  \n",
       "3468   bit worn amenities pictures description web si...  \n",
       "15132  convinced marco polo stayed marco polo 129 179...  \n",
       "9867   londra good value hotel good value overallbuff...  "
      ]
     },
     "execution_count": 12,
     "metadata": {},
     "output_type": "execute_result"
    }
   ],
   "source": [
    "# One final sanity check before doing the train and test data splits\n",
    "df_down_sample.sample(5)"
   ]
  },
  {
   "cell_type": "code",
   "execution_count": 13,
   "id": "ca03928b",
   "metadata": {},
   "outputs": [
    {
     "name": "stdout",
     "output_type": "stream",
     "text": [
      "length of train classes --> 3\n",
      "length of test classes --> 3\n",
      "missing groups any in between train and test classes --> set()\n"
     ]
    }
   ],
   "source": [
    "# Split the dataset into train and test set using sklearn's stratify parameter, also shuffle the dataset during the split\n",
    "X_train, X_test, y_train, y_test = train_test_split(df_down_sample['Review_Clean'],\n",
    "                                                    df_down_sample['Sentiment'], \n",
    "                                                    stratify=df_down_sample['Sentiment'],\n",
    "                                                    test_size=0.10, \n",
    "                                                    random_state=42,\n",
    "                                                    shuffle=True)\n",
    "\n",
    "print('length of train classes --> {}' .format(len(pd.DataFrame(y_train)['Sentiment'].unique())))\n",
    "print('length of test classes --> {}' .format(len(pd.DataFrame(y_test)['Sentiment'].unique())))\n",
    "print('missing groups any in between train and test classes --> {}' \n",
    "      .format(set(pd.DataFrame(y_train)['Sentiment'].unique())-set(pd.DataFrame(y_test)['Sentiment'].unique())))"
   ]
  },
  {
   "cell_type": "code",
   "execution_count": 14,
   "id": "df5bc256",
   "metadata": {},
   "outputs": [
    {
     "name": "stdout",
     "output_type": "stream",
     "text": [
      "train data split \n",
      "0    1966\n",
      "1    1965\n",
      "2    1965\n",
      "Name: Sentiment, dtype: int64\n",
      "\n",
      "\n",
      "test data split \n",
      "2    219\n",
      "1    219\n",
      "0    218\n",
      "Name: Sentiment, dtype: int64\n"
     ]
    }
   ],
   "source": [
    "# Take a look how the train and test splits look\n",
    "print(\"train data split \\n{}\" .format(y_train.value_counts()))\n",
    "print(\"\\n\")\n",
    "print(\"test data split \\n{}\" .format(y_test.value_counts()))"
   ]
  },
  {
   "cell_type": "code",
   "execution_count": 15,
   "id": "570b0fb8",
   "metadata": {},
   "outputs": [],
   "source": [
    "# Define the bert pre-process model\n",
    "pre_process_model = \"https://tfhub.dev/tensorflow/bert_en_uncased_preprocess/3\"\n",
    "bert_preprocess = hub.KerasLayer(pre_process_model)\n",
    "# Define the bert encoder model\n",
    "encoder_model = \"https://tfhub.dev/tensorflow/small_bert/bert_en_uncased_L-4_H-512_A-8/1\"\n",
    "bert_encoder = hub.KerasLayer(encoder_model)"
   ]
  },
  {
   "cell_type": "markdown",
   "id": "1bcd9add",
   "metadata": {},
   "source": [
    "#### Notes:\n",
    "* This BERT preprocessor is limited to 128 sequence length, rest of the words will be truncated\n",
    "* Provides numerical representation of the words\n",
    "* Provides the mask for the sentence, 1 representing words of the sentence and 0 as the padding \n",
    "* Represents single or multiple sentence inputs"
   ]
  },
  {
   "cell_type": "code",
   "execution_count": 16,
   "id": "03d924f6",
   "metadata": {},
   "outputs": [
    {
     "name": "stdout",
     "output_type": "stream",
     "text": [
      "Keys       : ['input_mask', 'input_word_ids', 'input_type_ids']\n",
      "Shape      : (2, 128)\n",
      "Word Ids   : [ 101 3376 2448 4125 2064 2022 2464 2013 3137 6992  102    0]\n",
      "Input Mask : [1 1 1 1 1 1 1 1 1 1 1 0]\n",
      "Type Ids   : [0 0 0 0 0 0 0 0 0 0 0 0]\n"
     ]
    }
   ],
   "source": [
    "# Test a sentence with bert pre-process model\n",
    "text_test = ['the stay in this hotel is so wonderful', 'beautiful run rise can be seen from mountain villa']\n",
    "text_preprocessed = bert_preprocess(text_test)\n",
    "\n",
    "print(f'Keys       : {list(text_preprocessed.keys())}')\n",
    "print(f'Shape      : {text_preprocessed[\"input_word_ids\"].shape}')\n",
    "print(f'Word Ids   : {text_preprocessed[\"input_word_ids\"][1, :12]}')\n",
    "print(f'Input Mask : {text_preprocessed[\"input_mask\"][1, :12]}')\n",
    "print(f'Type Ids   : {text_preprocessed[\"input_type_ids\"][1, :12]}')"
   ]
  },
  {
   "cell_type": "code",
   "execution_count": 17,
   "id": "229c055b",
   "metadata": {},
   "outputs": [
    {
     "name": "stdout",
     "output_type": "stream",
     "text": [
      "similarity between sentence 1 and 2 [[0.8638673]]\n",
      "similarity between sentence 2 and 3 [[0.6833092]]\n",
      "similarity between sentence 1 and 3 [[0.71094036]]\n"
     ]
    }
   ],
   "source": [
    "# Test sample bert embeddings\n",
    "def get_sentence_embeding(sentences):\n",
    "    preprocessed_text = bert_preprocess(sentences)\n",
    "    return bert_encoder(preprocessed_text)['pooled_output']\n",
    "\n",
    "sample_embeddings = get_sentence_embeding(['the stay in this hotel is so wonderful',\n",
    "                                           'beautiful run rise can be seen from mountain villa',\n",
    "                                           'rude, bad and pathetic'])\n",
    "\n",
    "print('similarity between sentence 1 and 2 {}' .format(cosine_similarity([sample_embeddings[0]],[sample_embeddings[1]])))\n",
    "print('similarity between sentence 2 and 3 {}' .format(cosine_similarity([sample_embeddings[1]],[sample_embeddings[2]])))\n",
    "print('similarity between sentence 1 and 3 {}' .format(cosine_similarity([sample_embeddings[0]],[sample_embeddings[2]])))"
   ]
  },
  {
   "cell_type": "markdown",
   "id": "d78800f8",
   "metadata": {},
   "source": [
    "#### Notes:\n",
    "* Early Stopping can be considered as one of the parameter tuning to stop the training early if the performance of the model is not improvising\n",
    "* This saves the computational time, hardware resources and leads to step ahead to other useful experimentations"
   ]
  },
  {
   "cell_type": "code",
   "execution_count": 18,
   "id": "6a042fe0",
   "metadata": {},
   "outputs": [],
   "source": [
    "# Define the early stopping callback\n",
    "early_stopping_cb = tf.keras.callbacks.EarlyStopping(monitor='val_loss', \n",
    "                                                  patience=4, \n",
    "                                                  min_delta=0.0001,\n",
    "                                                  verbose=1,\n",
    "                                                  mode='auto')"
   ]
  },
  {
   "cell_type": "markdown",
   "id": "4aa47ba3",
   "metadata": {},
   "source": [
    "#### Notes:\n",
    "* To organize the model and log folders in a disciplined manner and to do the required sub-tasks\n",
    "* This also maintains the readability and helps incase of large runs for log audits \n",
    "* This is not equivalent to MLOPs like mlflow, dvc, etc but provides a little organized manner"
   ]
  },
  {
   "cell_type": "code",
   "execution_count": 19,
   "id": "4c221a8e",
   "metadata": {},
   "outputs": [],
   "source": [
    "# Define the model checkpoint callback\n",
    "run_index = 1\n",
    "model_dir = \"models\"\n",
    "model_name = \"model.h5\"\n",
    "\n",
    "mod_dir = os.path.join(os.curdir, model_dir, \"run_{:03d}\".format(run_index), model_name)\n",
    "checkpoint_cb = tf.keras.callbacks.ModelCheckpoint(mod_dir, \n",
    "                                                monitor=\"val_loss\",\n",
    "                                                verbose=1,\n",
    "                                                save_best_only=True,\n",
    "                                                save_weights_only=False,\n",
    "                                                mode=\"auto\",\n",
    "                                                save_freq=\"epoch\")"
   ]
  },
  {
   "cell_type": "code",
   "execution_count": 20,
   "id": "39f5294f",
   "metadata": {},
   "outputs": [],
   "source": [
    "# Define the tensorboard callback\n",
    "run_logdir = os.path.join(os.curdir, \"logs\", \"run_{:03d}\".format(run_index))\n",
    "tensorboard_cb = tf.keras.callbacks.TensorBoard(run_logdir)"
   ]
  },
  {
   "cell_type": "markdown",
   "id": "3f8d9652",
   "metadata": {},
   "source": [
    "#### Notes:\n",
    "* Bert Layers\n",
    "    * Place holder for the text input\n",
    "    * BERT preprocess layer defined few cells above \n",
    "    * Inputting the text incoming from point 1 and get ready with encoding inputs\n",
    "    * BERT encoding layer defined few cells above and get the encoding outputs\n",
    "         * pooled_output represents embedding for the pre-processed sentence. For example: If the batch size is 64 then it outputs (64, 512) representing the embedding space.\n",
    "         * For fine tuning we will use pooled_output\n",
    "         * Some datasets works fine without trainable and some improvises with training the encoding BERT layer\n",
    "* Network Layers\n",
    "    * Starts input from poole_output from BERT layer\n",
    "    * Dropout layer for fine tuning\n",
    "    * Dense layer with size of 3 to get the outputs for the classifier layer"
   ]
  },
  {
   "cell_type": "code",
   "execution_count": 21,
   "id": "e728a265",
   "metadata": {},
   "outputs": [],
   "source": [
    "# Define model architecture\n",
    "# Bert layers\n",
    "text_input = tf.keras.layers.Input(shape=(), dtype=tf.string, name='text')\n",
    "preprocessing_layer = hub.KerasLayer(pre_process_model, name='pre_processing')\n",
    "encoder_inputs = preprocessing_layer(text_input)\n",
    "encoder = hub.KerasLayer(encoder_model, trainable=True, name='encoder')\n",
    "outputs = encoder(encoder_inputs)\n",
    "\n",
    "# Neural network layers\n",
    "net = outputs['pooled_output']\n",
    "net = tf.keras.layers.Dropout(0.1)(net)\n",
    "net = tf.keras.layers.Dense(len(y_train.unique()), activation='softmax', name='classifier')(net)\n",
    "\n",
    "model = tf.keras.Model(text_input, net)"
   ]
  },
  {
   "cell_type": "markdown",
   "id": "d504e340",
   "metadata": {},
   "source": [
    "#### Notes:\n",
    "* Defined loss as 'sparse_categorical_crossentropy' for the class representations such as [0, 1, 2, 3] \n",
    "* Learning rate starting with 3e-5 as per the BERT recommendation\n",
    "* Wanted to see the accuracy of training and validation datasets. We can also input more metrics like precision, recall, etc to see more metrics during the training phase"
   ]
  },
  {
   "cell_type": "code",
   "execution_count": 22,
   "id": "f4dc4dca",
   "metadata": {},
   "outputs": [
    {
     "name": "stdout",
     "output_type": "stream",
     "text": [
      "Model: \"model\"\n",
      "__________________________________________________________________________________________________\n",
      " Layer (type)                   Output Shape         Param #     Connected to                     \n",
      "==================================================================================================\n",
      " text (InputLayer)              [(None,)]            0           []                               \n",
      "                                                                                                  \n",
      " pre_processing (KerasLayer)    {'input_type_ids':   0           ['text[0][0]']                   \n",
      "                                (None, 128),                                                      \n",
      "                                 'input_mask': (Non                                               \n",
      "                                e, 128),                                                          \n",
      "                                 'input_word_ids':                                                \n",
      "                                (None, 128)}                                                      \n",
      "                                                                                                  \n",
      " encoder (KerasLayer)           {'default': (None,   28763649    ['pre_processing[0][0]',         \n",
      "                                512),                             'pre_processing[0][1]',         \n",
      "                                 'sequence_output':               'pre_processing[0][2]']         \n",
      "                                 (None, 128, 512),                                                \n",
      "                                 'encoder_outputs':                                               \n",
      "                                 [(None, 128, 512),                                               \n",
      "                                 (None, 128, 512),                                                \n",
      "                                 (None, 128, 512),                                                \n",
      "                                 (None, 128, 512)],                                               \n",
      "                                 'pooled_output': (                                               \n",
      "                                None, 512)}                                                       \n",
      "                                                                                                  \n",
      " dropout (Dropout)              (None, 512)          0           ['encoder[0][5]']                \n",
      "                                                                                                  \n",
      " classifier (Dense)             (None, 3)            1539        ['dropout[0][0]']                \n",
      "                                                                                                  \n",
      "==================================================================================================\n",
      "Total params: 28,765,188\n",
      "Trainable params: 28,765,187\n",
      "Non-trainable params: 1\n",
      "__________________________________________________________________________________________________\n",
      "None\n"
     ]
    }
   ],
   "source": [
    "# Compile the model\n",
    "model.compile(loss='sparse_categorical_crossentropy', \n",
    "              optimizer=tf.keras.optimizers.Adam(learning_rate=3e-5),\n",
    "              metrics=['accuracy'])\n",
    "print(model.summary())"
   ]
  },
  {
   "cell_type": "code",
   "execution_count": 23,
   "id": "ac98b76b",
   "metadata": {},
   "outputs": [],
   "source": [
    "# Define the epochs and batch size\n",
    "epochs = 20\n",
    "batch_size = 64"
   ]
  },
  {
   "cell_type": "markdown",
   "id": "174d272e",
   "metadata": {},
   "source": [
    "#### Notes:\n",
    "* Input training dataset such as review and sentiment as the input to the model\n",
    "* Input the epoch and batch size\n",
    "* Using validation split of 10% from the training set to check the model peformance\n",
    "* Input all the defined callbacks\n",
    "* Shuffle the dataset during the training phase"
   ]
  },
  {
   "cell_type": "code",
   "execution_count": 24,
   "id": "16813d69",
   "metadata": {
    "scrolled": false
   },
   "outputs": [
    {
     "name": "stdout",
     "output_type": "stream",
     "text": [
      "Epoch 1/20\n",
      "83/83 [==============================] - ETA: 0s - loss: 0.8985 - accuracy: 0.5548\n",
      "Epoch 00001: val_loss improved from inf to 0.67683, saving model to .\\models\\run_001\\model.h5\n",
      "83/83 [==============================] - 694s 8s/step - loss: 0.8985 - accuracy: 0.5548 - val_loss: 0.6768 - val_accuracy: 0.6966\n",
      "Epoch 2/20\n",
      "83/83 [==============================] - ETA: 0s - loss: 0.6494 - accuracy: 0.7107\n",
      "Epoch 00002: val_loss improved from 0.67683 to 0.62744, saving model to .\\models\\run_001\\model.h5\n",
      "83/83 [==============================] - 620s 7s/step - loss: 0.6494 - accuracy: 0.7107 - val_loss: 0.6274 - val_accuracy: 0.7220\n",
      "Epoch 3/20\n",
      "83/83 [==============================] - ETA: 0s - loss: 0.5559 - accuracy: 0.7644\n",
      "Epoch 00003: val_loss did not improve from 0.62744\n",
      "83/83 [==============================] - 628s 8s/step - loss: 0.5559 - accuracy: 0.7644 - val_loss: 0.7055 - val_accuracy: 0.6949\n",
      "Epoch 4/20\n",
      "83/83 [==============================] - ETA: 0s - loss: 0.4958 - accuracy: 0.7861\n",
      "Epoch 00004: val_loss did not improve from 0.62744\n",
      "83/83 [==============================] - 639s 8s/step - loss: 0.4958 - accuracy: 0.7861 - val_loss: 0.6957 - val_accuracy: 0.7102\n",
      "Epoch 5/20\n",
      "83/83 [==============================] - ETA: 0s - loss: 0.4074 - accuracy: 0.8321\n",
      "Epoch 00005: val_loss did not improve from 0.62744\n",
      "83/83 [==============================] - 622s 7s/step - loss: 0.4074 - accuracy: 0.8321 - val_loss: 0.6918 - val_accuracy: 0.7254\n",
      "Epoch 6/20\n",
      "83/83 [==============================] - ETA: 0s - loss: 0.3125 - accuracy: 0.8792\n",
      "Epoch 00006: val_loss did not improve from 0.62744\n",
      "83/83 [==============================] - 645s 8s/step - loss: 0.3125 - accuracy: 0.8792 - val_loss: 0.8139 - val_accuracy: 0.7034\n",
      "Epoch 00006: early stopping\n"
     ]
    }
   ],
   "source": [
    "# Fit the model to start training\n",
    "history = model.fit(X_train, \n",
    "                    y_train, \n",
    "                    epochs=epochs, \n",
    "                    batch_size=batch_size,\n",
    "                    validation_split=0.1,\n",
    "                    callbacks=[checkpoint_cb, early_stopping_cb, tensorboard_cb],\n",
    "                    shuffle=True,\n",
    "                    verbose=1)"
   ]
  },
  {
   "cell_type": "markdown",
   "id": "3da3b7f8",
   "metadata": {},
   "source": [
    "#### Notes:\n",
    "* Model has started overfitting from the third epoch itself and we know the reasons\n",
    "    * We just used portion of the dataset and it is very minimal, this is to reduce the time and computational complexity\n",
    "* What further can be done\n",
    "    * Use all the possible data from the datasets, if still not seeing performance improvement then we can use data augmentation techniques, etc.\n",
    "    * Use class balancing for imbalanced datasets\n",
    "    * Tune the dropout parameter\n",
    "    * Tune the learning rate\n",
    "    * Check last few cells at end of this notebook for auto hyper-parameter tuning techniques\n",
    "    * Try with bert models fine tuned for the sentiment analysis and recognition which can provide more value add\n",
    "    * Try with bert base, large, albert, robert, etc to solve the training issues. There will be always trade off between time, computational and quality complexities. "
   ]
  },
  {
   "cell_type": "code",
   "execution_count": 25,
   "id": "f4420323",
   "metadata": {},
   "outputs": [
    {
     "name": "stdout",
     "output_type": "stream",
     "text": [
      "11/11 [==============================] - 22s 2s/step - loss: 0.6910 - accuracy: 0.7546\n",
      "Test set\n",
      "  Loss: 0.691\n",
      "  Accuracy: 0.755\n"
     ]
    }
   ],
   "source": [
    "# This accuracy is from the last model checkpoint after early stopping\n",
    "accr = model.evaluate(X_test, \n",
    "                      y_test,\n",
    "                      batch_size=batch_size, \n",
    "                      verbose=1)\n",
    "print('Test set\\n  Loss: {:0.3f}\\n  Accuracy: {:0.3f}'.format(accr[0],accr[1]))"
   ]
  },
  {
   "cell_type": "code",
   "execution_count": 26,
   "id": "83ea9f57",
   "metadata": {},
   "outputs": [
    {
     "data": {
      "text/plain": [
       "'.\\\\models\\\\run_001\\\\model.h5'"
      ]
     },
     "execution_count": 26,
     "metadata": {},
     "output_type": "execute_result"
    }
   ],
   "source": [
    "# Turn on this for adhoc testing \n",
    "\"\"\"\n",
    "run_index = 1\n",
    "model_dir = \"models\"\n",
    "model_name = \"model.h5\"\n",
    "mod_dir = os.path.join(os.curdir, model_dir, \"run_{:03d}\".format(run_index), model_name)\n",
    "mod_dir\n",
    "\"\"\""
   ]
  },
  {
   "cell_type": "code",
   "execution_count": 27,
   "id": "8330a193",
   "metadata": {},
   "outputs": [
    {
     "name": "stdout",
     "output_type": "stream",
     "text": [
      "11/11 [==============================] - 22s 2s/step - loss: 0.5845 - accuracy: 0.7500\n",
      "Test set\n",
      "  Loss: 0.584\n",
      "  Accuracy: 0.750\n"
     ]
    }
   ],
   "source": [
    "# This accuracy is from the the best model saved from model checkpoint\n",
    "loaded_model = load_model(mod_dir, custom_objects={'KerasLayer':hub.KerasLayer})\n",
    "accr = loaded_model.evaluate(X_test, \n",
    "                             y_test,\n",
    "                             batch_size=batch_size, \n",
    "                             verbose=1)\n",
    "print('Test set\\n  Loss: {:0.3f}\\n  Accuracy: {:0.3f}'.format(accr[0],accr[1]))"
   ]
  },
  {
   "cell_type": "code",
   "execution_count": 28,
   "id": "e07c781c",
   "metadata": {},
   "outputs": [
    {
     "data": {
      "image/png": "[encoded data removed]",
      "text/plain": [
       "<Figure size 432x288 with 1 Axes>"
      ]
     },
     "metadata": {
      "needs_background": "light"
     },
     "output_type": "display_data"
    }
   ],
   "source": [
    "# Plot the validation loss graphs\n",
    "plt.title('Loss')\n",
    "plt.plot(history.history['loss'], label='train')\n",
    "plt.plot(history.history['val_loss'], label='test')\n",
    "plt.legend()\n",
    "plt.show();"
   ]
  },
  {
   "cell_type": "code",
   "execution_count": 29,
   "id": "a62f4887",
   "metadata": {},
   "outputs": [
    {
     "data": {
      "image/png": "[encoded data removed]",
      "text/plain": [
       "<Figure size 432x288 with 1 Axes>"
      ]
     },
     "metadata": {
      "needs_background": "light"
     },
     "output_type": "display_data"
    }
   ],
   "source": [
    "# Plot the accuracy graphs\n",
    "plt.title('Accuracy')\n",
    "plt.plot(history.history['accuracy'], label='train')\n",
    "plt.plot(history.history['val_accuracy'], label='val')\n",
    "plt.legend()\n",
    "plt.show();"
   ]
  },
  {
   "cell_type": "code",
   "execution_count": 30,
   "id": "69d91b49",
   "metadata": {},
   "outputs": [
    {
     "name": "stdout",
     "output_type": "stream",
     "text": [
      "labels ['2', '0', '1']\n"
     ]
    }
   ],
   "source": [
    "# Get the encoded labels\n",
    "labels = list(y_test.unique())\n",
    "labels = list(map(str, labels))\n",
    "print('labels {}' .format(labels))"
   ]
  },
  {
   "cell_type": "code",
   "execution_count": 31,
   "id": "968f1862",
   "metadata": {},
   "outputs": [
    {
     "data": {
      "image/png": "[encoded data removed]",
      "text/plain": [
       "<Figure size 576x288 with 2 Axes>"
      ]
     },
     "metadata": {
      "needs_background": "light"
     },
     "output_type": "display_data"
    }
   ],
   "source": [
    "# Print the heat map for confusion matrix\n",
    "y_pred = loaded_model.predict(X_test)\n",
    "conf_matrix = confusion_matrix(y_test, y_pred.argmax(axis=1))\n",
    "\n",
    "fig, ax = plt.subplots(figsize=(8, 4))\n",
    "sns.heatmap(conf_matrix, annot=True, fmt='d',\n",
    "            xticklabels=labels, yticklabels=labels)\n",
    "plt.ylabel('actual')\n",
    "plt.xlabel('predicted')\n",
    "plt.show()"
   ]
  },
  {
   "cell_type": "code",
   "execution_count": 32,
   "id": "a5fbc7ca",
   "metadata": {},
   "outputs": [
    {
     "name": "stdout",
     "output_type": "stream",
     "text": [
      "overall accuracy score --> 0.75\n"
     ]
    }
   ],
   "source": [
    "# Other way to get accuracy score\n",
    "accur_score = accuracy_score(y_test, y_pred.argmax(axis=1))\n",
    "print('overall accuracy score --> {}' .format(accur_score))"
   ]
  },
  {
   "cell_type": "markdown",
   "id": "868b3b28",
   "metadata": {},
   "source": [
    "#### Points to remember for classification report\n",
    "* Precision and Recall calculation for each class in multiclass classification\n",
    "    * precision = diag(mat) / colsums(mat) --> actual class classified as actual / actual class classified as actual + other class(s) classified to this actual class \n",
    "    * recall = diag(mat) / rowsums(mat) --> actual class classified as actual / actual class classified as actual + actual classified to other class(s)\n",
    "* Points to recall before deciding the model and pushing it to production\n",
    "    * Complete details available in below links:\n",
    "    * https://medium.com/usf-msds/choosing-the-right-metric-for-evaluating-machine-learning-models-part-2-86d5649a5428\n",
    "    * https://towardsdatascience.com/handling-imbalanced-datasets-in-machine-learning-7a0e84220f28\n",
    "    * Some quick points to refresh\n",
    "        * High precision + High recall: The class is perfectly handled by the model\n",
    "        * High precision + Low recall:  The model can’t detect the class well but is highly trustable when it does\n",
    "        * Low precision  + High recall: The class is well detected but the model also include points of other classes in it\n",
    "        * Low precision  + Low recall:  The class is poorly handled by the model"
   ]
  },
  {
   "cell_type": "code",
   "execution_count": 33,
   "id": "c0a34cda",
   "metadata": {},
   "outputs": [
    {
     "name": "stdout",
     "output_type": "stream",
     "text": [
      "              precision    recall  f1-score   support\n",
      "\n",
      "           0       0.72      0.80      0.76       218\n",
      "           1       0.68      0.58      0.63       219\n",
      "           2       0.84      0.86      0.85       219\n",
      "\n",
      "    accuracy                           0.75       656\n",
      "   macro avg       0.75      0.75      0.75       656\n",
      "weighted avg       0.75      0.75      0.75       656\n",
      "\n"
     ]
    }
   ],
   "source": [
    "# Classification report of the model performance\n",
    "print(classification_report(y_test, \n",
    "                            y_pred.argmax(axis=1)))"
   ]
  },
  {
   "cell_type": "markdown",
   "id": "c7c04eb9",
   "metadata": {},
   "source": [
    "#### Notes:\n",
    "* Plot and work on AUC (Area Under Curve) and ROC (Receiver Operating Characteristics) for multi-class classification problem "
   ]
  },
  {
   "cell_type": "code",
   "execution_count": 34,
   "id": "5af9effc",
   "metadata": {},
   "outputs": [
    {
     "name": "stdout",
     "output_type": "stream",
     "text": [
      "ok stay stayed week contacted hotel directly able free breakfast thrown package normally 10 euros pe ...\n",
      "actual label: 1\n",
      "predicted label: 1\n",
      "\n",
      "\n",
      "right train station small rooms bit like ibis hotels small clean bathroom cross street train station ...\n",
      "actual label: 1\n",
      "predicted label: 1\n",
      "\n",
      "\n",
      "hotel europa choice stayed hotel europa 8 days recent trip florence oct 2005 turned excellent choice ...\n",
      "actual label: 2\n",
      "predicted label: 2\n",
      "\n",
      "\n",
      "great hotel good location stayed 2 nights march 2006 hotel modern style looks nice room small clean  ...\n",
      "actual label: 2\n",
      "predicted label: 2\n",
      "\n",
      "\n",
      "potential great standard service lets badly stayed ocean sand affected lazy incompetent management s ...\n",
      "actual label: 0\n",
      "predicted label: 0\n",
      "\n",
      "\n"
     ]
    }
   ],
   "source": [
    "# Here's how to generate a prediction on individual examples and compare between actual and predicted labels\n",
    "labels = ['0', '1', '2']\n",
    "\n",
    "for i in range(600, 605):\n",
    "    prediction = loaded_model.predict(np.array([X_test.iloc[i]]))\n",
    "    predicted_label = labels[np.argmax(prediction)]\n",
    "    print(X_test.iloc[i][:100], \"...\")\n",
    "    print('actual label: {}'  .format(y_test.iloc[i]))\n",
    "    print(\"predicted label: {}\" .format(predicted_label))\n",
    "    print(\"\\n\")"
   ]
  },
  {
   "cell_type": "code",
   "execution_count": 35,
   "id": "81b44f1c",
   "metadata": {},
   "outputs": [
    {
     "data": {
      "text/html": [
       "<div>\n",
       "<style scoped>\n",
       "    .dataframe tbody tr th:only-of-type {\n",
       "        vertical-align: middle;\n",
       "    }\n",
       "\n",
       "    .dataframe tbody tr th {\n",
       "        vertical-align: top;\n",
       "    }\n",
       "\n",
       "    .dataframe thead th {\n",
       "        text-align: right;\n",
       "    }\n",
       "</style>\n",
       "<table border=\"1\" class=\"dataframe\">\n",
       "  <thead>\n",
       "    <tr style=\"text-align: right;\">\n",
       "      <th></th>\n",
       "      <th>Actual</th>\n",
       "      <th>Predicted</th>\n",
       "      <th>Description</th>\n",
       "    </tr>\n",
       "  </thead>\n",
       "  <tbody>\n",
       "    <tr>\n",
       "      <th>0</th>\n",
       "      <td>2</td>\n",
       "      <td>0</td>\n",
       "      <td>make returned week secrets excellence punta ca...</td>\n",
       "    </tr>\n",
       "    <tr>\n",
       "      <th>1</th>\n",
       "      <td>0</td>\n",
       "      <td>1</td>\n",
       "      <td>second time rio westin mar husband stayed west...</td>\n",
       "    </tr>\n",
       "    <tr>\n",
       "      <th>2</th>\n",
       "      <td>1</td>\n",
       "      <td>0</td>\n",
       "      <td>nothing fancy sheratonmarriott spent night ny ...</td>\n",
       "    </tr>\n",
       "    <tr>\n",
       "      <th>3</th>\n",
       "      <td>2</td>\n",
       "      <td>1</td>\n",
       "      <td>good breakfast stayed london nyc 2 nights shar...</td>\n",
       "    </tr>\n",
       "    <tr>\n",
       "      <th>4</th>\n",
       "      <td>1</td>\n",
       "      <td>0</td>\n",
       "      <td>pre post cruise stay stayed condado plaza 39 p...</td>\n",
       "    </tr>\n",
       "  </tbody>\n",
       "</table>\n",
       "</div>"
      ],
      "text/plain": [
       "   Actual Predicted                                        Description\n",
       "0       2         0  make returned week secrets excellence punta ca...\n",
       "1       0         1  second time rio westin mar husband stayed west...\n",
       "2       1         0  nothing fancy sheratonmarriott spent night ny ...\n",
       "3       2         1  good breakfast stayed london nyc 2 nights shar...\n",
       "4       1         0  pre post cruise stay stayed condado plaza 39 p..."
      ]
     },
     "execution_count": 35,
     "metadata": {},
     "output_type": "execute_result"
    }
   ],
   "source": [
    "# Collect wrongly classified records for further analysis and remediations. \n",
    "wrong_preds = []\n",
    "\n",
    "for i in range(len(X_test)):\n",
    "    prediction = loaded_model.predict(np.array([X_test.iloc[i]]))\n",
    "    predicted_label = labels[np.argmax(prediction)]\n",
    "    actual_label = y_test.iloc[i]\n",
    "    description = X_test.iloc[i]\n",
    "    if(str(predicted_label).strip() != str(actual_label).strip()):\n",
    "        wrong_preds.append((actual_label, predicted_label, description))\n",
    "        #break\n",
    "\n",
    "wrong_preds_df = pd.DataFrame(wrong_preds, columns =['Actual', 'Predicted', 'Description'])\n",
    "wrong_preds_df.head()"
   ]
  },
  {
   "cell_type": "code",
   "execution_count": 36,
   "id": "c440cad9",
   "metadata": {},
   "outputs": [
    {
     "name": "stdout",
     "output_type": "stream",
     "text": [
      "number of wrong predictions 164\n"
     ]
    }
   ],
   "source": [
    "# The number of wrong predictions detected here are equal to number of wrong predictions in confusion matrix\n",
    "print('number of wrong predictions {}' .format(len(wrong_preds_df)))"
   ]
  },
  {
   "cell_type": "markdown",
   "id": "e49311e5",
   "metadata": {},
   "source": [
    "#### Notes:\n",
    "* Sample code to predict the review rating for new or custom reviews\n",
    "* Note, normally it has to go through preprocessing pipeline, here we consider the review is preprocessed"
   ]
  },
  {
   "cell_type": "code",
   "execution_count": 49,
   "id": "3a7efc17",
   "metadata": {},
   "outputs": [
    {
     "name": "stdout",
     "output_type": "stream",
     "text": [
      "review: wonderful and beautiful stay hilton hotel\n",
      "predicted probabilities: [[0.00266377 0.01707985 0.98025644]]\n",
      "predicted rating: 2\n",
      "mapped label: positive\n",
      "\n",
      "review: average hotel nothing great\n",
      "predicted probabilities: [[0.12683511 0.8396645  0.03350035]]\n",
      "predicted rating: 1\n",
      "mapped label: neutral\n",
      "\n",
      "review: worst experience never visit again\n",
      "predicted probabilities: [[0.9146548  0.03222778 0.05311745]]\n",
      "predicted rating: 0\n",
      "mapped label: negative\n",
      "\n"
     ]
    }
   ],
   "source": [
    "s_reviews = ['wonderful and beautiful stay hilton hotel',\n",
    "             'average hotel nothing great',\n",
    "             'worst experience never visit again']\n",
    "\n",
    "label_map = {0:\"negative\", 1:\"neutral\", 2:\"positive\"}\n",
    "\n",
    "for i in range(len(s_reviews)):\n",
    "    print('review: {}' .format(s_reviews[i]))\n",
    "    prediction = loaded_model.predict(np.array([s_reviews[i]]))\n",
    "    print('predicted probabilities: {}' .format(prediction))\n",
    "    predicted_label = labels[np.argmax(prediction)]\n",
    "    print('predicted rating: {}\\nmapped label: {}\\n' .format(predicted_label, label_map.get(int(predicted_label))))"
   ]
  },
  {
   "cell_type": "markdown",
   "id": "8a63f510",
   "metadata": {},
   "source": [
    "#### Auto Hyperparameter Tuning\n",
    "* All below cells talks about the auto hyperparameter tuning steps, this is provided as part of the code completion but really not executed. This is a classical approach and there are several ways to do this such as AutoKeras, KerasTuner, etc.\n",
    "    * A generic function to build the model\n",
    "    * Defining the parameter distributins\n",
    "    * An execution using gridsearchCV\n",
    "    * An execution using randomizedsearchcv"
   ]
  },
  {
   "cell_type": "code",
   "execution_count": null,
   "id": "5a3c602c",
   "metadata": {},
   "outputs": [],
   "source": [
    "# Build the model\n",
    "def build_model(drop_out=0.1, learning_rate=3e-5, trainable=True):\n",
    "    # Define model architecture\n",
    "    # Bert layers\n",
    "    text_input = tf.keras.layers.Input(shape=(), dtype=tf.string, name='text')\n",
    "    preprocessing_layer = hub.KerasLayer(pre_process_model, name='pre_processing')\n",
    "    encoder_inputs = preprocessing_layer(text_input)\n",
    "    encoder = hub.KerasLayer(encoder_model, trainable=trainable, name='encoder')\n",
    "    outputs = encoder(encoder_inputs)\n",
    "\n",
    "    # Neural network layers\n",
    "    net = outputs['pooled_output']\n",
    "    net = tf.keras.layers.Dropout(drop_out)(net)\n",
    "    net = tf.keras.layers.Dense(len(y_train.unique()), activation='softmax', name='classifier')(net)\n",
    "\n",
    "    model = tf.keras.Model(text_input, net)\n",
    "    \n",
    "    model.compile(loss='sparse_categorical_crossentropy', \n",
    "              optimizer=tf.keras.optimizers.Adam(learning_rate=learning_rate),\n",
    "              metrics=['accuracy'])\n",
    "\n",
    "    return model\n",
    "\n",
    "model = KerasClassifier(build_model)"
   ]
  },
  {
   "cell_type": "code",
   "execution_count": null,
   "id": "d022bbc0",
   "metadata": {},
   "outputs": [],
   "source": [
    "# Build the parameter distributions\n",
    "param_distributions = {\n",
    "    \"drop_out\": [0.1, 0.20, 0.30, 0.40, 0.50, 0.60],\n",
    "    \"learning_rate\": [3e-5, 3e-6],\n",
    "    \"trainable\": [True, False]\n",
    "}"
   ]
  },
  {
   "cell_type": "code",
   "execution_count": null,
   "id": "c6b426cd",
   "metadata": {},
   "outputs": [],
   "source": [
    "# Build the GridSearchCV \n",
    "grid_search_cv = GridSearchCV(estimator=model, \n",
    "                              param_grid=param_distributions,\n",
    "                              cv=3,\n",
    "                              verbose=2)\n",
    "# Fit the GridSearchCV \n",
    "grid_search_cv.fit(X_train, \n",
    "                   y_train, \n",
    "                   epochs=epochs, \n",
    "                   batch_size=batch_size,\n",
    "                   validation_split=0.1,\n",
    "                   callbacks=[checkpoint_cb, early_stopping_cb, tensorboard_cb],\n",
    "                   shuffle=True,\n",
    "                   verbose=1)"
   ]
  },
  {
   "cell_type": "code",
   "execution_count": null,
   "id": "713da464",
   "metadata": {},
   "outputs": [],
   "source": [
    "# Build the RandomSearchCV  \n",
    "rnd_search_cv = RandomizedSearchCV(estimator=model, \n",
    "                                   param_distributions=param_distributions, \n",
    "                                   n_iter=10, \n",
    "                                   cv=3, \n",
    "                                   verbose=2)\n",
    "\n",
    "# Fit the RandomSearchCV  \n",
    "rnd_search_cv.fit(X_train, \n",
    "                  Y_train, \n",
    "                  epochs=epochs, \n",
    "                  batch_size=batch_size,\n",
    "                  validation_split=0.1,\n",
    "                  callbacks=[checkpoint_cb, early_stopping_cb, tensorboard_cb],\n",
    "                  shuffle=True,\n",
    "                  verbose=1)"
   ]
  }
 ],
 "metadata": {
  "kernelspec": {
   "display_name": "Python 3",
   "language": "python",
   "name": "python3"
  },
  "language_info": {
   "codemirror_mode": {
    "name": "ipython",
    "version": 3
   },
   "file_extension": ".py",
   "mimetype": "text/x-python",
   "name": "python",
   "nbconvert_exporter": "python",
   "pygments_lexer": "ipython3",
   "version": "3.7.10"
  }
 },
 "nbformat": 4,
 "nbformat_minor": 5
}
