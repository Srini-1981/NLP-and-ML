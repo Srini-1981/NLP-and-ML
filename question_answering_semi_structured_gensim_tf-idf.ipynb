{
 "cells": [
  {
   "cell_type": "markdown",
   "metadata": {},
   "source": [
    "#### Purpose of this algorithm \n",
    "* Build an mvp or algorithm to answer the question from semi structured documents like word.\n",
    "* Note: This algorithm will only work if the word document is having structured headings.\n",
    "\n",
    "#### High level steps of the algorithm\n",
    "* Read's one or more word document(s) from the target folder.\n",
    "* Loops through the document for the headings.\n",
    "* Goes through various transformations and cleanup and finally frames heading as a question and the content under heading as an answer to the question.\n",
    "* Creates the knowledgebase for all the available word documents.\n",
    "* Builds a search index for all the questions and ready to answer the question(s)\n",
    "\n",
    "#### Algorithm\n",
    "* Used gensim's tf-idf model to build the search index - as explained in the question_answering_structured.ipynb some algorithms works better based on the data and their respective problems, tf-idf worked better in this case instead of bringing in the semantic or contextual meaning to the words (sentences). This might be because most of the question sentences are technical words and they are also short."
   ]
  },
  {
   "cell_type": "code",
   "execution_count": 35,
   "metadata": {},
   "outputs": [],
   "source": [
    "# Do all the package imports \n",
    "import os\n",
    "#from pprint import pprint\n",
    "#from tabulate import tabulate\n",
    "\n",
    "from docx import Document\n",
    "import glob\n",
    "\n",
    "from gensim import corpora, models, similarities\n",
    "import pandas as pd\n",
    "\n",
    "from nltk.corpus import stopwords\n",
    "import re\n",
    "\n",
    "import logging\n",
    "logging.basicConfig(format='%(asctime)s : %(levelname)s : %(message)s', level=logging.INFO)"
   ]
  },
  {
   "cell_type": "code",
   "execution_count": 7,
   "metadata": {},
   "outputs": [],
   "source": [
    "\"\"\"\n",
    "Start creating knowledge base. Currently below knowledge extraction from the word documents\n",
    "works for the ones with structure which has headings.\n",
    "\"\"\"\n",
    "def create_knowledge(doc):\n",
    "    doc_answers = []\n",
    "    temp_answers = []\n",
    "    doc_head = 'no'\n",
    "    \"\"\"\n",
    "    Loop through the headings of the document, for each heading accumulate its heading and\n",
    "    their relevant paragraphs to form the knowledge base from their respective headings.\n",
    "    \n",
    "    Firstly accumulate the heading and paragraphs in to temp list, once the heading is over \n",
    "    then put them into doc_answers list, reset the temp list and get ready for the next\n",
    "    heading\n",
    "    \"\"\"\n",
    "    for paragraph in doc.paragraphs:\n",
    "        if paragraph.style.name.startswith(\"Heading\"):\n",
    "            doc_head = 'yes'\n",
    "        if (doc_head == 'yes'):\n",
    "            if(len(temp_answers) > 0):\n",
    "                doc_answers.append(temp_answers)\n",
    "            doc_head = 'no'\n",
    "            temp_answers = []\n",
    "        if (doc_head == 'no'):\n",
    "            temp_answers.append(paragraph.text)\n",
    "    \n",
    "    \"\"\" \n",
    "    Put the last temp heading into the doc_answers as the last one will not cover in the\n",
    "    above loop\n",
    "    \"\"\"\n",
    "    doc_answers.append(temp_answers)\n",
    "    \"\"\"\n",
    "    Remove the first element from the doc_answer as it contains the table of contents and \n",
    "    other junk data with lot of empty elements in its respective list\n",
    "    \"\"\"\n",
    "    doc_answers = doc_answers[1:]\n",
    "    \n",
    "    \"\"\"\n",
    "    Remove all the empty elements from the lists\n",
    "    \"\"\"\n",
    "    doc_answers_1 = []\n",
    "    for doc_answer in doc_answers:\n",
    "        t_paragraphs = list(filter(None, doc_answer))\n",
    "        doc_answers_1.append(t_paragraphs)\n",
    "    \n",
    "    \"\"\"\n",
    "    Remove the lists which contains just one element and they will not contribute much to\n",
    "    the knowledge base\n",
    "    \"\"\"\n",
    "    doc_answers_2 = []\n",
    "    for doc_answer in doc_answers_1:\n",
    "        if(len(doc_answer) > 1):\n",
    "            doc_answers_2.append(doc_answer) \n",
    "    \n",
    "    \"\"\"\n",
    "    Add numbering to the answer. Strip first element from each list to extract the topic \n",
    "    or heading which will later used to build the machine learning model. Create a \n",
    "    tuples for each list of elements and return the knowledge for the word document.\n",
    "    \"\"\"\n",
    "    doc_answers_3 = []\n",
    "    for doc_answer in doc_answers_2:\n",
    "        i = 1\n",
    "        t_answer = ''\n",
    "        for answer in doc_answer:\n",
    "            t_answer = t_answer + '(' + str(i)  + ')' + ' ' + answer + ' '\n",
    "            i = i +1 \n",
    "        doc_answers_3.append((doc_answer[0], t_answer.strip()))\n",
    "        t_answer = ''\n",
    "        i = 1\n",
    "    \n",
    "    return doc_answers_3\n"
   ]
  },
  {
   "cell_type": "code",
   "execution_count": 23,
   "metadata": {},
   "outputs": [],
   "source": [
    "# Frame the data path\n",
    "data_dir = \"C:\\\\srini\\\\word\"\n",
    "file_extn = \"*.docx\"\n",
    "data_path = os.path.join(data_dir, file_extn)\n",
    "\n",
    "\"\"\"\n",
    "Loop through each word document and accumulate all the headings and their respective \n",
    "paragraphs to create the final knowledge base. Create tuples using file name as document\n",
    "or guide name, topic or heading and its respective paragraphs to create the complete \n",
    "knowledge base.\n",
    "\"\"\"\n",
    "knowledge_base = []\n",
    "for file_name in glob.glob(data_path):\n",
    "    doc = Document(file_name)\n",
    "    knowledge_doc = create_knowledge(doc)\n",
    "    for topic, answer in knowledge_doc:\n",
    "        #knowledge_base.append((file_name, topic, answer))\n",
    "        knowledge_base.append((os.path.basename(file_name), topic, answer))\n",
    "\n",
    "\"\"\"\n",
    "Create a data frame with final knowledge base to feed into the machine learning model\n",
    "\"\"\"\n",
    "knowledge_base = pd.DataFrame(knowledge_base, columns =['guide_name', 'question', 'answer']) \n"
   ]
  },
  {
   "cell_type": "code",
   "execution_count": 45,
   "metadata": {},
   "outputs": [
    {
     "name": "stdout",
     "output_type": "stream",
     "text": [
      "total question and answers framed --> 308\n"
     ]
    },
    {
     "data": {
      "text/html": [
       "<div>\n",
       "<style scoped>\n",
       "    .dataframe tbody tr th:only-of-type {\n",
       "        vertical-align: middle;\n",
       "    }\n",
       "\n",
       "    .dataframe tbody tr th {\n",
       "        vertical-align: top;\n",
       "    }\n",
       "\n",
       "    .dataframe thead th {\n",
       "        text-align: right;\n",
       "    }\n",
       "</style>\n",
       "<table border=\"1\" class=\"dataframe\">\n",
       "  <thead>\n",
       "    <tr style=\"text-align: right;\">\n",
       "      <th></th>\n",
       "      <th>guide_name</th>\n",
       "      <th>question</th>\n",
       "      <th>answer</th>\n",
       "    </tr>\n",
       "  </thead>\n",
       "  <tbody>\n",
       "    <tr>\n",
       "      <th>0</th>\n",
       "      <td>IAP_AdminGuide_v5.docx</td>\n",
       "      <td>Overview</td>\n",
       "      <td>(1) Overview (2) This document provides inform...</td>\n",
       "    </tr>\n",
       "    <tr>\n",
       "      <th>1</th>\n",
       "      <td>IAP_AdminGuide_v5.docx</td>\n",
       "      <td>Logging in to the portal</td>\n",
       "      <td>(1) Logging in to the portal (2) IAP allows us...</td>\n",
       "    </tr>\n",
       "    <tr>\n",
       "      <th>2</th>\n",
       "      <td>IAP_AdminGuide_v5.docx</td>\n",
       "      <td>Expanding/Collapsing the left-pane</td>\n",
       "      <td>(1) Expanding/Collapsing the left-pane (2) The...</td>\n",
       "    </tr>\n",
       "    <tr>\n",
       "      <th>3</th>\n",
       "      <td>IAP_AdminGuide_v5.docx</td>\n",
       "      <td>Performing Search on the Portal</td>\n",
       "      <td>(1) Performing Search on the Portal (2) Admins...</td>\n",
       "    </tr>\n",
       "    <tr>\n",
       "      <th>4</th>\n",
       "      <td>IAP_AdminGuide_v5.docx</td>\n",
       "      <td>Navigating through Records</td>\n",
       "      <td>(1) Navigating through Records (2) The user ca...</td>\n",
       "    </tr>\n",
       "  </tbody>\n",
       "</table>\n",
       "</div>"
      ],
      "text/plain": [
       "               guide_name                            question  \\\n",
       "0  IAP_AdminGuide_v5.docx                            Overview   \n",
       "1  IAP_AdminGuide_v5.docx            Logging in to the portal   \n",
       "2  IAP_AdminGuide_v5.docx  Expanding/Collapsing the left-pane   \n",
       "3  IAP_AdminGuide_v5.docx     Performing Search on the Portal   \n",
       "4  IAP_AdminGuide_v5.docx          Navigating through Records   \n",
       "\n",
       "                                              answer  \n",
       "0  (1) Overview (2) This document provides inform...  \n",
       "1  (1) Logging in to the portal (2) IAP allows us...  \n",
       "2  (1) Expanding/Collapsing the left-pane (2) The...  \n",
       "3  (1) Performing Search on the Portal (2) Admins...  \n",
       "4  (1) Navigating through Records (2) The user ca...  "
      ]
     },
     "execution_count": 45,
     "metadata": {},
     "output_type": "execute_result"
    },
    {
     "data": {
      "text/html": [
       "<div>\n",
       "<style scoped>\n",
       "    .dataframe tbody tr th:only-of-type {\n",
       "        vertical-align: middle;\n",
       "    }\n",
       "\n",
       "    .dataframe tbody tr th {\n",
       "        vertical-align: top;\n",
       "    }\n",
       "\n",
       "    .dataframe thead th {\n",
       "        text-align: right;\n",
       "    }\n",
       "</style>\n",
       "<table border=\"1\" class=\"dataframe\">\n",
       "  <thead>\n",
       "    <tr style=\"text-align: right;\">\n",
       "      <th></th>\n",
       "      <th>guide_name</th>\n",
       "      <th>question</th>\n",
       "      <th>answer</th>\n",
       "    </tr>\n",
       "  </thead>\n",
       "  <tbody>\n",
       "    <tr>\n",
       "      <th>303</th>\n",
       "      <td>IAP_EventManagementGuide_v5.docx</td>\n",
       "      <td>Advance Search</td>\n",
       "      <td>(1) Advance Search (2) User can search for a p...</td>\n",
       "    </tr>\n",
       "    <tr>\n",
       "      <th>304</th>\n",
       "      <td>IAP_EventManagementGuide_v5.docx</td>\n",
       "      <td>Reset</td>\n",
       "      <td>(1) Reset  (2) In order to clear all the param...</td>\n",
       "    </tr>\n",
       "    <tr>\n",
       "      <th>305</th>\n",
       "      <td>IAP_EventManagementGuide_v5.docx</td>\n",
       "      <td>Maximizing the Message</td>\n",
       "      <td>(1) Maximizing the Message (2) This icon is di...</td>\n",
       "    </tr>\n",
       "    <tr>\n",
       "      <th>306</th>\n",
       "      <td>IAP_EventManagementGuide_v5.docx</td>\n",
       "      <td>Knowledge Management</td>\n",
       "      <td>(1) Knowledge Management (2) Knowledge managem...</td>\n",
       "    </tr>\n",
       "    <tr>\n",
       "      <th>307</th>\n",
       "      <td>IAP_EventManagementGuide_v5.docx</td>\n",
       "      <td>Ticket Flow</td>\n",
       "      <td>(1) Ticket Flow (2) This feature will allow us...</td>\n",
       "    </tr>\n",
       "  </tbody>\n",
       "</table>\n",
       "</div>"
      ],
      "text/plain": [
       "                           guide_name                question  \\\n",
       "303  IAP_EventManagementGuide_v5.docx          Advance Search   \n",
       "304  IAP_EventManagementGuide_v5.docx                  Reset    \n",
       "305  IAP_EventManagementGuide_v5.docx  Maximizing the Message   \n",
       "306  IAP_EventManagementGuide_v5.docx    Knowledge Management   \n",
       "307  IAP_EventManagementGuide_v5.docx             Ticket Flow   \n",
       "\n",
       "                                                answer  \n",
       "303  (1) Advance Search (2) User can search for a p...  \n",
       "304  (1) Reset  (2) In order to clear all the param...  \n",
       "305  (1) Maximizing the Message (2) This icon is di...  \n",
       "306  (1) Knowledge Management (2) Knowledge managem...  \n",
       "307  (1) Ticket Flow (2) This feature will allow us...  "
      ]
     },
     "execution_count": 45,
     "metadata": {},
     "output_type": "execute_result"
    }
   ],
   "source": [
    "from IPython.core.interactiveshell import InteractiveShell  \n",
    "InteractiveShell.ast_node_interactivity = \"all\"\n",
    "\n",
    "# Sanity check the knowledge base\n",
    "print('total question and answers framed --> {}' .format(len(knowledge_base)))\n",
    "knowledge_base.head()\n",
    "knowledge_base.tail()"
   ]
  },
  {
   "cell_type": "code",
   "execution_count": 46,
   "metadata": {},
   "outputs": [],
   "source": [
    "# Get stopwords from NLTK\n",
    "stopWords = stopwords.words('english')"
   ]
  },
  {
   "cell_type": "code",
   "execution_count": 48,
   "metadata": {},
   "outputs": [
    {
     "data": {
      "text/plain": [
       "[['adding', 'user', 'groups'],\n",
       " ['modifying', 'user', 'groups'],\n",
       " ['de', 'activating', 'user', 'groups'],\n",
       " ['activating', 'user', 'groups'],\n",
       " ['user', 'roles']]"
      ]
     },
     "execution_count": 48,
     "metadata": {},
     "output_type": "execute_result"
    }
   ],
   "source": [
    "# pre process or clean data for each question/record\n",
    "def clean_data(sentence):\n",
    "    # convert to lowercase, ignore all special characters - \n",
    "    # keep only alpha-numericals and spaces (not removing full-stop here)\n",
    "    sentence = sentence.replace('/', ' ')\n",
    "    sentence = sentence.replace('-', ' ')\n",
    "    sentence = sentence.replace('.', ' ')\n",
    "    sentence = re.sub(r'[^A-Za-z0-9\\s.]', r'', str(sentence).lower())\n",
    "    sentence = re.sub(r'\\n', r' ', sentence)\n",
    "    sentence = re.sub('\\d+', ' ', sentence)\n",
    "    \n",
    "    # remove stop words\n",
    "    sentence = \" \".join([word for word in sentence.split() if word not in stopWords])\n",
    "    \n",
    "    return sentence.split()\n",
    "\n",
    "# clean up all the questions with above function\n",
    "questions_list = knowledge_base.question.map(lambda x: clean_data(x))\n",
    "# make a list of lists for algorithm feed\n",
    "questions_list = questions_list.tolist()\n",
    "# print few questions after clean up\n",
    "questions_list[10:15]\n"
   ]
  },
  {
   "cell_type": "code",
   "execution_count": 49,
   "metadata": {},
   "outputs": [
    {
     "name": "stderr",
     "output_type": "stream",
     "text": [
      "2020-02-25 19:07:59,185 : INFO : adding document #0 to Dictionary(0 unique tokens: [])\n",
      "2020-02-25 19:07:59,198 : INFO : built Dictionary(270 unique tokens: ['overview', 'logging', 'portal', 'collapsing', 'expanding']...) from 308 documents (total 812 corpus positions)\n",
      "2020-02-25 19:07:59,204 : INFO : collecting document frequencies\n",
      "2020-02-25 19:07:59,206 : INFO : PROGRESS: processing document #0\n",
      "2020-02-25 19:07:59,208 : INFO : calculating IDF weights for 308 documents and 270 features (808 matrix non-zeros)\n",
      "2020-02-25 19:07:59,212 : INFO : creating sparse index\n",
      "2020-02-25 19:07:59,214 : INFO : creating sparse matrix from corpus\n",
      "2020-02-25 19:07:59,216 : INFO : PROGRESS: at document #0\n",
      "2020-02-25 19:07:59,238 : INFO : created <308x270 sparse matrix of type '<class 'numpy.float32'>'\n",
      "\twith 808 stored elements in Compressed Sparse Row format>\n"
     ]
    }
   ],
   "source": [
    "# Build the similarity index model\n",
    "dictionary = corpora.Dictionary(questions_list)\n",
    "feature_cnt = len(dictionary.token2id)\n",
    "\n",
    "corpus = [dictionary.doc2bow(question_corpus) for question_corpus in questions_list]\n",
    "tfidf = models.TfidfModel(corpus) \n",
    "sms_index = similarities.SparseMatrixSimilarity(tfidf[corpus], num_features = feature_cnt, num_best=5)\n"
   ]
  },
  {
   "cell_type": "code",
   "execution_count": 51,
   "metadata": {},
   "outputs": [],
   "source": [
    "# Build a question for inferencing\n",
    "test_question = \"user groups\"\n",
    "q_vector = dictionary.doc2bow(cleanData(test_question.lower()))\n",
    "tfidf_sims = sms_index[tfidf[q_vector]]"
   ]
  },
  {
   "cell_type": "code",
   "execution_count": 52,
   "metadata": {},
   "outputs": [
    {
     "name": "stdout",
     "output_type": "stream",
     "text": [
      "confidence score --> 1.0 for question --> User Groups -- > guide name --> IAP_AdminGuide_v5.docx\n",
      "confidence score --> 0.9425783157348633 for question --> Viewing User Groups -- > guide name --> IAP_AdminGuide_v5.docx\n",
      "confidence score --> 0.8166521787643433 for question --> Adding User Groups  -- > guide name --> IAP_AdminGuide_v5.docx\n",
      "confidence score --> 0.8097742795944214 for question --> Activating User Groups  -- > guide name --> IAP_AdminGuide_v5.docx\n",
      "confidence score --> 0.6644854545593262 for question --> Modifying User Groups  -- > guide name --> IAP_AdminGuide_v5.docx\n"
     ]
    }
   ],
   "source": [
    "# Print the retreived questions from the model index\n",
    "for i in range(len(tfidf_sims)):\n",
    "    print(\"confidence score --> {} for question --> {} -- > guide name --> {}\" \n",
    "          .format(tfidf_sims[i][1], knowledge_base.question[tfidf_sims[i][0]],\n",
    "          knowledge_base.guide_name[tfidf_sims[i][0]]))"
   ]
  },
  {
   "cell_type": "code",
   "execution_count": 53,
   "metadata": {},
   "outputs": [
    {
     "name": "stdout",
     "output_type": "stream",
     "text": [
      "answer from guide --> IAP_AdminGuide_v5.docx --> answer --> (1) User Groups (2) Groups will be associated with users and it will be associated with Business service. To gain access to the business service, the user has to be part of the group which is associated with the Business Service.\n",
      "answer from guide --> IAP_AdminGuide_v5.docx --> answer --> (1) Viewing User Groups (2) This page lists all the existing active groups records.   (3) To View Groups, On the Admin home page, under General Settings, click Groups. Once clicked, the Groups page is displayed. The Group page is loaded with Active tab selected by default. The groups homepage displays groups information in a tabular format. The available columns are: Groups, Description and Actions. (4) \n",
      " (5) View Groups\n",
      "answer from guide --> IAP_AdminGuide_v5.docx --> answer --> (1) Adding User Groups  (2) Admins can add new groups to the active list of group records. (3) To Add Groups: On the Admin homepage, click Groups. The New Group page is displayed. (4) New Groups  (5) To change the setting, update the following fields. (6) In the Name box, type the name of the group to be added. (7) In the Description box, type the description of the group. (8) Click Add to create the group. Alternatively, click Cancel to discard your changes and return to the Groups homepage. (9) The group is added and displayed in the list view on the Active tab of the Groups homepage.\n",
      "answer from guide --> IAP_AdminGuide_v5.docx --> answer --> (1) Activating User Groups  (2) Admins can bring back the deactivated groups to the activated state.  (3) To Activate Groups, On the Groups homepage, select the group which you want to activate, and click Activate Group. \n",
      " (4) Activate Groups  (5) An alert message appears asking for the confirmation for activating the group. (6) Alert Message Window (7) Click OK to accept the confirmation for activating the group. The respective group detail is activated and displayed in the list view on the Active tab of the Groups homepage. Alternatively, click Cancel to discard the confirmation and return to the Groups homepage. (8)\n",
      "answer from guide --> IAP_AdminGuide_v5.docx --> answer --> (1) Modifying User Groups  (2) Admins will be able to modify the group detail that has been added. (3) To Modify Groups, On the Groups homepage, select the group for which you want to modify the details, and click Edit Group. The Edit Group page is displayed. (4) Edit Groups  (5) To change the setting, update the following fields. (6) In the Name box modify the name of the group. (7) In the Description box, modify the description of the group. (8) Click Save to save the changes. Alternatively, click Cancel to discard your changes and return to the Groups homepage. (9) The updated group detail is saved and displayed in the list view on the Active tab of the Groups homepage.\n"
     ]
    }
   ],
   "source": [
    "for i in range(len(tfidf_sims)):\n",
    "    print(\"answer from guide --> {} --> answer --> {}\" \n",
    "          .format(knowledge_base.guide_name[tfidf_sims[i][0]], \n",
    "                  knowledge_base.answer[tfidf_sims[i][0]]))"
   ]
  }
 ],
 "metadata": {
  "kernelspec": {
   "display_name": "Python 3",
   "language": "python",
   "name": "python3"
  },
  "language_info": {
   "codemirror_mode": {
    "name": "ipython",
    "version": 3
   },
   "file_extension": ".py",
   "mimetype": "text/x-python",
   "name": "python",
   "nbconvert_exporter": "python",
   "pygments_lexer": "ipython3",
   "version": "3.8.10"
  }
 },
 "nbformat": 4,
 "nbformat_minor": 2
}
